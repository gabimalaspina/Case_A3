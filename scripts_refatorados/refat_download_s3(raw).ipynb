{
 "cells": [
  {
   "cell_type": "code",
   "execution_count": 1,
   "metadata": {},
   "outputs": [],
   "source": [
    "#------------------------------------------- bibliotecas\n",
    "\n",
    "import requests # raspagem do conteúdo da página\n",
    "from bs4 import BeautifulSoup as bs # estruturação do conteúdo raspado\n",
    "import boto3 # conexão com a AWS"
   ]
  },
  {
   "cell_type": "code",
   "execution_count": null,
   "metadata": {},
   "outputs": [],
   "source": [
    "#------------------------------------------- configurações AWS\n",
    "\n",
    "s3 = boto3.client('s3') # instância para conectar à AWS\n",
    "\n",
    "# configurações do bucket\n",
    "bucket = 'elasticbeanstalk-us-east-2-047710767346'\n",
    "\n",
    "# especificando e criando os prefixos (equivalentes a \"subpastas\")\n",
    "prefixo_mae = 'Case_A3_refatorado'\n",
    "s3.put_object(Bucket=bucket, Key=f'{prefixo_mae}/')\n",
    "\n",
    "prefixo_raw = f'{prefixo_mae}/raw_arquivos_zip'\n",
    "s3.put_object(Bucket=bucket, Key=f'{prefixo_raw}/')"
   ]
  },
  {
   "cell_type": "code",
   "execution_count": 24,
   "metadata": {},
   "outputs": [],
   "source": [
    "#------------------------------------------- raspagem a página 1 - encontrando os links para download\n",
    "\n",
    "url = 'https://www.gov.br/inep/pt-br/acesso-a-informacao/dados-abertos/microdados/censo-da-educacao-superior'\n",
    "\n",
    "# etapa adicional, para impedir que a mensagem de erro apareça a cada requisição\n",
    "from requests.packages.urllib3.exceptions import InsecureRequestWarning\n",
    "requests.packages.urllib3.disable_warnings(InsecureRequestWarning)\n",
    "\n",
    "html_bruto = requests.get(url, verify=False) # conteúdo bruto da página, o \"sopão\" de infos\n",
    "\n",
    "# configurando o parser para organizar e ver os dados de maneira estruturara (para achar a div alvo)\n",
    "html_estruturado = bs(html_bruto.content, 'html.parser')\n",
    "\n",
    "# separando a div alvo, identificada na inspeção da página - \"parent_div\"\n",
    "parent_div = html_estruturado.find('div', {'id': 'parent-fieldname-text'})"
   ]
  },
  {
   "cell_type": "code",
   "execution_count": 26,
   "metadata": {},
   "outputs": [],
   "source": [
    "#------------------------------------------- raspagem a página 2 - separando e armazenando os links para download\n",
    "\n",
    "# lista para armazenar os links para download, que vamos extrair da div\n",
    "links_download = []\n",
    "\n",
    "# percorrendo os elementos da div para encontrar os links\n",
    "for year_element in parent_div.find_all('p', {'class': 'callout'}):\n",
    "    ano = year_element.find('strong').text.strip()\n",
    "    ul_element = year_element.find_next('ul')\n",
    "\n",
    "    for li_element in ul_element.find_all('li'):\n",
    "        link = li_element.find('a')['href']\n",
    "        links_download.append((ano, link)) # armazenando o link na lista criada"
   ]
  },
  {
   "cell_type": "code",
   "execution_count": 37,
   "metadata": {},
   "outputs": [
    {
     "name": "stdout",
     "output_type": "stream",
     "text": [
      "O arquivo zip com os dados de 2022 foi escrito com sucesso. Caminho: Case_A3_refatorado/raw_arquivos_zip/Microdados_2022.zip\n",
      "O arquivo zip com os dados de 2021 foi escrito com sucesso. Caminho: Case_A3_refatorado/raw_arquivos_zip/Microdados_2021.zip\n",
      "O arquivo zip com os dados de 2020 foi escrito com sucesso. Caminho: Case_A3_refatorado/raw_arquivos_zip/Microdados_2020.zip\n",
      "O arquivo zip com os dados de 2019 foi escrito com sucesso. Caminho: Case_A3_refatorado/raw_arquivos_zip/Microdados_2019.zip\n",
      "O arquivo zip com os dados de 2018 foi escrito com sucesso. Caminho: Case_A3_refatorado/raw_arquivos_zip/Microdados_2018.zip\n",
      "O arquivo zip com os dados de 2017 foi escrito com sucesso. Caminho: Case_A3_refatorado/raw_arquivos_zip/Microdados_2017.zip\n",
      "O arquivo zip com os dados de 2016 foi escrito com sucesso. Caminho: Case_A3_refatorado/raw_arquivos_zip/Microdados_2016.zip\n",
      "O arquivo zip com os dados de 2015 foi escrito com sucesso. Caminho: Case_A3_refatorado/raw_arquivos_zip/Microdados_2015.zip\n",
      "O arquivo zip com os dados de 2014 foi escrito com sucesso. Caminho: Case_A3_refatorado/raw_arquivos_zip/Microdados_2014.zip\n",
      "O arquivo zip com os dados de 2013 foi escrito com sucesso. Caminho: Case_A3_refatorado/raw_arquivos_zip/Microdados_2013.zip\n",
      "O arquivo zip com os dados de 2012 foi escrito com sucesso. Caminho: Case_A3_refatorado/raw_arquivos_zip/Microdados_2012.zip\n",
      "O arquivo zip com os dados de 2011 foi escrito com sucesso. Caminho: Case_A3_refatorado/raw_arquivos_zip/Microdados_2011.zip\n",
      "O arquivo zip com os dados de 2010 foi escrito com sucesso. Caminho: Case_A3_refatorado/raw_arquivos_zip/Microdados_2010.zip\n",
      "O arquivo zip com os dados de 2009 foi escrito com sucesso. Caminho: Case_A3_refatorado/raw_arquivos_zip/Microdados_2009.zip\n",
      "O arquivo zip com os dados de 2008 foi escrito com sucesso. Caminho: Case_A3_refatorado/raw_arquivos_zip/Microdados_2008.zip\n",
      "O arquivo zip com os dados de 2007 foi escrito com sucesso. Caminho: Case_A3_refatorado/raw_arquivos_zip/Microdados_2007.zip\n",
      "O arquivo zip com os dados de 2006 foi escrito com sucesso. Caminho: Case_A3_refatorado/raw_arquivos_zip/Microdados_2006.zip\n",
      "O arquivo zip com os dados de 2005 foi escrito com sucesso. Caminho: Case_A3_refatorado/raw_arquivos_zip/Microdados_2005.zip\n",
      "O arquivo zip com os dados de 2004 foi escrito com sucesso. Caminho: Case_A3_refatorado/raw_arquivos_zip/Microdados_2004.zip\n",
      "O arquivo zip com os dados de 2003 foi escrito com sucesso. Caminho: Case_A3_refatorado/raw_arquivos_zip/Microdados_2003.zip\n",
      "O arquivo zip com os dados de 2002 foi escrito com sucesso. Caminho: Case_A3_refatorado/raw_arquivos_zip/Microdados_2002.zip\n",
      "O arquivo zip com os dados de 2001 foi escrito com sucesso. Caminho: Case_A3_refatorado/raw_arquivos_zip/Microdados_2001.zip\n",
      "O arquivo zip com os dados de 2000 foi escrito com sucesso. Caminho: Case_A3_refatorado/raw_arquivos_zip/Microdados_2000.zip\n",
      "O arquivo zip com os dados de 1999 foi escrito com sucesso. Caminho: Case_A3_refatorado/raw_arquivos_zip/Microdados_1999.zip\n",
      "O arquivo zip com os dados de 1998 foi escrito com sucesso. Caminho: Case_A3_refatorado/raw_arquivos_zip/Microdados_1998.zip\n",
      "O arquivo zip com os dados de 1997 foi escrito com sucesso. Caminho: Case_A3_refatorado/raw_arquivos_zip/Microdados_1997.zip\n",
      "O arquivo zip com os dados de 1996 foi escrito com sucesso. Caminho: Case_A3_refatorado/raw_arquivos_zip/Microdados_1996.zip\n",
      "O arquivo zip com os dados de 1995 foi escrito com sucesso. Caminho: Case_A3_refatorado/raw_arquivos_zip/Microdados_1995.zip\n"
     ]
    }
   ],
   "source": [
    "#------------------------------------------- loop para download em massa dos arquivos zip\n",
    "\n",
    "# agora, vamos iterar sobre os links listados para fazer o download e salvar os arquivos direto no bucket\n",
    "for ano, link in links_download:\n",
    "    try:\n",
    "        # faz o download e desativa a verificação do certificado SSL\n",
    "        arquivo_zip = requests.get(link, stream=True, verify=False)\n",
    "        arquivo_zip.raise_for_status()  # verifica se houve erro no download\n",
    "\n",
    "        # envia o arquivo para o bucket do S3 dentro da subpasta \"arquivos_zip\"\n",
    "        nome_completo_zip = f'{prefixo_raw}/Microdados_{ano}.zip'\n",
    "        s3.upload_fileobj(    # fileobj é o 'objeto do arquivo' a ser enviado para o bucket\n",
    "            arquivo_zip.raw,  # raw é o conteúdo do arquivo e indica que o arquivo não foi aberto (camada 'raw', camada 'de abstração')\n",
    "            bucket,           # nome do bucket\n",
    "            nome_completo_zip # nome completo do arquivo no bucket >>> caminho(prefixos)+nome(microdados_ano.zip)\n",
    "        )\n",
    "\n",
    "        print(f'O arquivo zip com os dados de {ano} foi escrito com sucesso. Caminho: {nome_completo_zip}')\n",
    "\n",
    "    except Exception as e:\n",
    "        print(f'Erro ao baixar o arquivo Microdados_{ano}: {e}')"
   ]
  }
 ],
 "metadata": {
  "kernelspec": {
   "display_name": "Python 3",
   "language": "python",
   "name": "python3"
  },
  "language_info": {
   "codemirror_mode": {
    "name": "ipython",
    "version": 3
   },
   "file_extension": ".py",
   "mimetype": "text/x-python",
   "name": "python",
   "nbconvert_exporter": "python",
   "pygments_lexer": "ipython3",
   "version": "3.9.2"
  }
 },
 "nbformat": 4,
 "nbformat_minor": 2
}
