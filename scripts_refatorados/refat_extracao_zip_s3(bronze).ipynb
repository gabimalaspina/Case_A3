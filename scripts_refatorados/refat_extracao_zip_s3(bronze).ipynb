{
 "cells": [
  {
   "cell_type": "code",
   "execution_count": 8,
   "metadata": {},
   "outputs": [],
   "source": [
    "#------------------------------------------- bibliotecas\n",
    "\n",
    "import boto3 # conexão com AWS\n",
    "import zipfile # trabalhar com arquivoz .zip\n",
    "from io import BytesIO # armazenar o conteúdo do objeto"
   ]
  },
  {
   "cell_type": "code",
   "execution_count": null,
   "metadata": {},
   "outputs": [],
   "source": [
    "#------------------------------------------- configurações AWS\n",
    "\n",
    "s3 = boto3.client('s3') # instância para conectar à AWS\n",
    "\n",
    "# configurações do bucket\n",
    "bucket = 'elasticbeanstalk-us-east-2-047710767346'\n",
    "\n",
    "# especificando e criando os prefixos (equivalentes a \"subpastas\")\n",
    "prefixo_mae = 'Case_A3_refatorado'\n",
    "s3.put_object(Bucket=bucket, Key=f'{prefixo_mae}/')\n",
    "\n",
    "# origem\n",
    "prefixo_raw = f'{prefixo_mae}/raw_arquivos_zip'\n",
    "\n",
    "# destino\n",
    "prefixo_bronze = f'{prefixo_mae}/bronze_arquivos_extraidos'"
   ]
  },
  {
   "cell_type": "code",
   "execution_count": 3,
   "metadata": {},
   "outputs": [],
   "source": [
    "#------------------------------------------- definindo e listando objetos a serem extraídos\n",
    "\n",
    "obj = s3.list_objects(Bucket=bucket, Prefix=f'{prefixo_raw}/Microdados')\n",
    "\n",
    "# obj será um dicionário ( {'chave':'valor'}) em que as keys (nome) dos arquivos zip estão armazenadas na chave 'contents';\n",
    "# precisamos acessar a chave 'contents', que será uma lista de dicionários com as infos dos zips;\n",
    "# aí vamos querer a chave 'key', que contém o nome do arquivo\n",
    "\n",
    "arquivos_zip = obj['Contents'] # arquivos_zip será uma lista com as infos e keys de cada objeto"
   ]
  },
  {
   "cell_type": "code",
   "execution_count": 22,
   "metadata": {},
   "outputs": [
    {
     "name": "stdout",
     "output_type": "stream",
     "text": [
      "O conteúdo do ZIP Microdados_1995.zip foi extraído para: Case_A3_refatorado/bronze_arquivos_extraidos\n",
      "O conteúdo do ZIP Microdados_1996.zip foi extraído para: Case_A3_refatorado/bronze_arquivos_extraidos\n",
      "O conteúdo do ZIP Microdados_1997.zip foi extraído para: Case_A3_refatorado/bronze_arquivos_extraidos\n",
      "O conteúdo do ZIP Microdados_1998.zip foi extraído para: Case_A3_refatorado/bronze_arquivos_extraidos\n",
      "O conteúdo do ZIP Microdados_1999.zip foi extraído para: Case_A3_refatorado/bronze_arquivos_extraidos\n",
      "O conteúdo do ZIP Microdados_2000.zip foi extraído para: Case_A3_refatorado/bronze_arquivos_extraidos\n",
      "O conteúdo do ZIP Microdados_2001.zip foi extraído para: Case_A3_refatorado/bronze_arquivos_extraidos\n",
      "O conteúdo do ZIP Microdados_2002.zip foi extraído para: Case_A3_refatorado/bronze_arquivos_extraidos\n",
      "O conteúdo do ZIP Microdados_2003.zip foi extraído para: Case_A3_refatorado/bronze_arquivos_extraidos\n",
      "O conteúdo do ZIP Microdados_2004.zip foi extraído para: Case_A3_refatorado/bronze_arquivos_extraidos\n",
      "O conteúdo do ZIP Microdados_2005.zip foi extraído para: Case_A3_refatorado/bronze_arquivos_extraidos\n",
      "O conteúdo do ZIP Microdados_2006.zip foi extraído para: Case_A3_refatorado/bronze_arquivos_extraidos\n",
      "O conteúdo do ZIP Microdados_2007.zip foi extraído para: Case_A3_refatorado/bronze_arquivos_extraidos\n",
      "O conteúdo do ZIP Microdados_2008.zip foi extraído para: Case_A3_refatorado/bronze_arquivos_extraidos\n",
      "O conteúdo do ZIP Microdados_2009.zip foi extraído para: Case_A3_refatorado/bronze_arquivos_extraidos\n",
      "O conteúdo do ZIP Microdados_2010.zip foi extraído para: Case_A3_refatorado/bronze_arquivos_extraidos\n",
      "O conteúdo do ZIP Microdados_2011.zip foi extraído para: Case_A3_refatorado/bronze_arquivos_extraidos\n",
      "O conteúdo do ZIP Microdados_2012.zip foi extraído para: Case_A3_refatorado/bronze_arquivos_extraidos\n",
      "O conteúdo do ZIP Microdados_2013.zip foi extraído para: Case_A3_refatorado/bronze_arquivos_extraidos\n",
      "O conteúdo do ZIP Microdados_2014.zip foi extraído para: Case_A3_refatorado/bronze_arquivos_extraidos\n",
      "O conteúdo do ZIP Microdados_2015.zip foi extraído para: Case_A3_refatorado/bronze_arquivos_extraidos\n",
      "O conteúdo do ZIP Microdados_2016.zip foi extraído para: Case_A3_refatorado/bronze_arquivos_extraidos\n",
      "O conteúdo do ZIP Microdados_2017.zip foi extraído para: Case_A3_refatorado/bronze_arquivos_extraidos\n",
      "O conteúdo do ZIP Microdados_2018.zip foi extraído para: Case_A3_refatorado/bronze_arquivos_extraidos\n",
      "O conteúdo do ZIP Microdados_2019.zip foi extraído para: Case_A3_refatorado/bronze_arquivos_extraidos\n",
      "O conteúdo do ZIP Microdados_2020.zip foi extraído para: Case_A3_refatorado/bronze_arquivos_extraidos\n",
      "O conteúdo do ZIP Microdados_2021.zip foi extraído para: Case_A3_refatorado/bronze_arquivos_extraidos\n",
      "O conteúdo do ZIP Microdados_2022.zip foi extraído para: Case_A3_refatorado/bronze_arquivos_extraidos\n"
     ]
    }
   ],
   "source": [
    "#------------------------------------------- loop para percorrer os objetos listados e extrair, escrevendo o conteúdo na bronze\n",
    "\n",
    "for zip_info in arquivos_zip:\n",
    "    zip_key = zip_info['Key']\n",
    "    nome_zip = zip_key.split('/')[-1]\n",
    "\n",
    "    # verificar se o arquivo é um ZIP\n",
    "    if not nome_zip.endswith('.zip'):\n",
    "        raise ValueError(f'O arquivo {nome_zip} não é um arquivo ZIP válido.')\n",
    "\n",
    "    # requisição para obter o conteúdo do ZIP\n",
    "    requisicao_conteudo_zip = s3.get_object(Bucket=bucket, Key=zip_key)\n",
    "    conteudo_zip = BytesIO(requisicao_conteudo_zip['Body'].read())\n",
    "\n",
    "    # extração e carregamento direto para o S3\n",
    "    with zipfile.ZipFile(conteudo_zip, 'r') as zip_ref:\n",
    "        for file_info in zip_ref.infolist():\n",
    "            with zip_ref.open(file_info.filename) as file:\n",
    "                file_content = file.read()\n",
    "\n",
    "            # escrever o conteúdo extraído diretamente para o S3\n",
    "            s3.put_object(Body=file_content, Bucket=bucket, Key=f'{prefixo_bronze}/{file_info.filename}')\n",
    "\n",
    "    print(f'O conteúdo do ZIP {nome_zip} foi extraído para: {prefixo_bronze}')\n",
    "\n",
    "print('Extração finalizada.')\n"
   ]
  }
 ],
 "metadata": {
  "kernelspec": {
   "display_name": "Python 3",
   "language": "python",
   "name": "python3"
  },
  "language_info": {
   "codemirror_mode": {
    "name": "ipython",
    "version": 3
   },
   "file_extension": ".py",
   "mimetype": "text/x-python",
   "name": "python",
   "nbconvert_exporter": "python",
   "pygments_lexer": "ipython3",
   "version": "3.9.2"
  }
 },
 "nbformat": 4,
 "nbformat_minor": 2
}
