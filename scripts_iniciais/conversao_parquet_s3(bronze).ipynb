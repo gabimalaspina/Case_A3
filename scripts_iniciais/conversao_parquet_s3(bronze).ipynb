{
 "cells": [
  {
   "cell_type": "code",
   "execution_count": 1,
   "metadata": {},
   "outputs": [],
   "source": [
    "import boto3\n",
    "import pandas as pd\n",
    "import pyarrow as pa\n",
    "import pyarrow.parquet as pq\n",
    "from pyarrow.fs import S3FileSystem\n",
    "from io import BytesIO"
   ]
  },
  {
   "cell_type": "code",
   "execution_count": 2,
   "metadata": {},
   "outputs": [],
   "source": [
    "# variáveis de entrada\n",
    "nome_bucket = 'elasticbeanstalk-us-east-2-047710767346'\n",
    "subpasta = 'Case_A3'\n",
    "pasta_origem = f'{subpasta}/arquivos_extraidos'\n",
    "pasta_destino = f'{subpasta}/arquivos_extraidos_parquet'\n",
    "\n",
    "s3 = boto3.client('s3')"
   ]
  },
  {
   "cell_type": "code",
   "execution_count": 3,
   "metadata": {},
   "outputs": [
    {
     "name": "stdout",
     "output_type": "stream",
     "text": [
      "Pasta Case_A3/arquivos_extraidos_parquet já existe! Caminho: s3://elasticbeanstalk-us-east-2-047710767346/Case_A3/arquivos_extraidos_parquet/\n"
     ]
    }
   ],
   "source": [
    "def verifica_ou_cria_pasta(s3, nome_bucket, pasta_destino):\n",
    "    # Verifica se a pasta de destino existe\n",
    "    try:\n",
    "        s3.head_object(Bucket=nome_bucket, Key=f'{pasta_destino}/')\n",
    "        print(f'Pasta {pasta_destino} já existe! Caminho: s3://{nome_bucket}/{pasta_destino}/')\n",
    "    except Exception as e:\n",
    "        # Se não existir, cria a pasta\n",
    "        s3.put_object(Body='', Bucket=nome_bucket, Key=f'{pasta_destino}/')\n",
    "        print(f'Pasta {pasta_destino} criada com sucesso! Caminho: s3://{nome_bucket}/{pasta_destino}/')\n",
    "verifica_ou_cria_pasta(s3, nome_bucket, pasta_destino)"
   ]
  },
  {
   "cell_type": "code",
   "execution_count": null,
   "metadata": {},
   "outputs": [],
   "source": [
    "# vamos criar uma função para listar os arquivos dentro da pasta origem\n",
    "def lista_arquivos_pasta(s3, nome_bucket, pasta_origem):\n",
    "    # lista os arquivos dentro da pasta\n",
    "    response = s3.list_objects_v2(Bucket=nome_bucket, Prefix=pasta_origem)\n",
    "    # cria uma lista vazia para armazenar os nomes dos arquivos\n",
    "    lista_arquivos = []\n",
    "    # percorre o response e adiciona o nome dos arquivos na lista\n",
    "    for obj in response['Contents']:\n",
    "        lista_arquivos.append(obj['Key'])\n",
    "    # retorna a lista de arquivos\n",
    "    return lista_arquivos"
   ]
  },
  {
   "cell_type": "code",
   "execution_count": null,
   "metadata": {},
   "outputs": [],
   "source": []
  },
  {
   "cell_type": "code",
   "execution_count": null,
   "metadata": {},
   "outputs": [],
   "source": [
    "lista_arquivos_pasta(s3, nome_bucket, pasta_origem)"
   ]
  }
 ],
 "metadata": {
  "kernelspec": {
   "display_name": "Python 3",
   "language": "python",
   "name": "python3"
  },
  "language_info": {
   "codemirror_mode": {
    "name": "ipython",
    "version": 3
   },
   "file_extension": ".py",
   "mimetype": "text/x-python",
   "name": "python",
   "nbconvert_exporter": "python",
   "pygments_lexer": "ipython3",
   "version": "3.9.2"
  }
 },
 "nbformat": 4,
 "nbformat_minor": 2
}
