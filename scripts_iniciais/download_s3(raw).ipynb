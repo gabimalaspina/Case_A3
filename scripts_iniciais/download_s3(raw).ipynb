{
 "cells": [
  {
   "cell_type": "code",
   "execution_count": 1,
   "metadata": {},
   "outputs": [],
   "source": [
    "import os\n",
    "import requests\n",
    "from bs4 import BeautifulSoup as bs\n",
    "import boto3"
   ]
  },
  {
   "cell_type": "code",
   "execution_count": 5,
   "metadata": {},
   "outputs": [
    {
     "name": "stdout",
     "output_type": "stream",
     "text": [
      "A pasta Case_A3_3 foi criada.\n"
     ]
    }
   ],
   "source": [
    "# Configuração inicial\n",
    "url = 'https://www.gov.br/inep/pt-br/acesso-a-informacao/dados-abertos/microdados/censo-da-educacao-superior'\n",
    "\n",
    "s3 = boto3.client('s3')\n",
    "bucket_name = 'elasticbeanstalk-us-east-2-047710767346'\n",
    "subfolder_name = 'Case_A3_3'\n",
    "\n",
    "# verificar se a pasta Case_A3 existe no bucket\n",
    "try:\n",
    "    s3.head_object(Bucket=bucket_name, Key=f'{subfolder_name}/')\n",
    "except:\n",
    "    # se a pasta não existe, criar\n",
    "    s3.put_object(Bucket=bucket_name, Key=f'{subfolder_name}/')\n",
    "\n",
    "# verificar se a pasta \"arquivos_zip\" dentro de Case_A3 existe no bucket\n",
    "try:\n",
    "    s3.head_object(Bucket=bucket_name, Key=f'{subfolder_name}/arquivos_zip/')\n",
    "    print(f'A pasta {subfolder_name} já existe.')\n",
    "except:\n",
    "    # se a pasta não existe, criar\n",
    "    s3.put_object(Bucket=bucket_name, Key=f'{subfolder_name}/arquivos_zip/')\n",
    "    print(f'A pasta {subfolder_name} foi criada.')"
   ]
  },
  {
   "cell_type": "code",
   "execution_count": 6,
   "metadata": {},
   "outputs": [
    {
     "name": "stderr",
     "output_type": "stream",
     "text": [
      "/usr/lib/python3/dist-packages/urllib3/connectionpool.py:1015: InsecureRequestWarning: Unverified HTTPS request is being made to host 'www.gov.br'. Adding certificate verification is strongly advised. See: https://urllib3.readthedocs.io/en/latest/advanced-usage.html#ssl-warnings\n",
      "  warnings.warn(\n"
     ]
    }
   ],
   "source": [
    "# raspando a página\n",
    "html_bruto = requests.get(url, verify=False) \n",
    "html_conteudo = html_bruto.text\n",
    "html_estruturado = bs(html_bruto.content, 'html.parser')\n",
    "\n",
    "# Configurando o parser e baixando os dados\n",
    "html_estruturado = bs(html_bruto.content, 'html.parser')\n",
    "\n",
    "# separando a div desejada - \"parent_div\"\n",
    "parent_div = html_estruturado.find('div', {'id': 'parent-fieldname-text'})\n",
    "\n",
    "# lista para armazenar os links para download\n",
    "links_download = []"
   ]
  },
  {
   "cell_type": "code",
   "execution_count": 9,
   "metadata": {},
   "outputs": [],
   "source": [
    "# percorrendo os elementos da div para encontrar os links\n",
    "\n",
    "for year_element in parent_div.find_all('p', {'class': 'callout'}):\n",
    "    year = year_element.find('strong').text.strip()\n",
    "    ul_element = year_element.find_next('ul')\n",
    "\n",
    "    for li_element in ul_element.find_all('li'):\n",
    "        link = li_element.find('a')['href']\n",
    "        links_download.append((year, link))"
   ]
  },
  {
   "cell_type": "code",
   "execution_count": 10,
   "metadata": {},
   "outputs": [
    {
     "data": {
      "text/plain": [
       "[('2022',\n",
       "  'https://download.inep.gov.br/microdados/microdados_censo_da_educacao_superior_2022.zip'),\n",
       " ('2021',\n",
       "  'https://download.inep.gov.br/microdados/microdados_censo_da_educacao_superior_2021.zip'),\n",
       " ('2020',\n",
       "  'https://download.inep.gov.br/microdados/microdados_censo_da_educacao_superior_2020.zip'),\n",
       " ('2019',\n",
       "  'https://download.inep.gov.br/microdados/microdados_censo_da_educacao_superior_2019.zip'),\n",
       " ('2018',\n",
       "  'https://download.inep.gov.br/microdados/microdados_censo_da_educacao_superior_2018.zip'),\n",
       " ('2017',\n",
       "  'https://download.inep.gov.br/microdados/microdados_censo_da_educacao_superior_2017.zip'),\n",
       " ('2016',\n",
       "  'https://download.inep.gov.br/microdados/microdados_censo_da_educacao_superior_2016.zip'),\n",
       " ('2015',\n",
       "  'https://download.inep.gov.br/microdados/microdados_censo_da_educacao_superior_2015.zip'),\n",
       " ('2014',\n",
       "  'https://download.inep.gov.br/microdados/microdados_censo_da_educacao_superior_2014.zip'),\n",
       " ('2013',\n",
       "  'https://download.inep.gov.br/microdados/microdados_censo_da_educacao_superior_2013.zip'),\n",
       " ('2012',\n",
       "  'https://download.inep.gov.br/microdados/microdados_censo_da_educacao_superior_2012.zip'),\n",
       " ('2011',\n",
       "  'https://download.inep.gov.br/microdados/microdados_censo_da_educacao_superior_2011.zip'),\n",
       " ('2010',\n",
       "  'https://download.inep.gov.br/microdados/microdados_censo_da_educacao_superior_2010.zip'),\n",
       " ('2009',\n",
       "  'https://download.inep.gov.br/microdados/microdados_censo_da_educacao_superior_2009.zip'),\n",
       " ('2008',\n",
       "  'https://download.inep.gov.br/microdados/microdados_censo_da_educacao_superior_2008.zip'),\n",
       " ('2007',\n",
       "  'https://download.inep.gov.br/microdados/microdados_censo_da_educacao_superior_2007.zip'),\n",
       " ('2006',\n",
       "  'https://download.inep.gov.br/microdados/microdados_censo_da_educacao_superior_2006.zip'),\n",
       " ('2005',\n",
       "  'https://download.inep.gov.br/microdados/microdados_censo_da_educacao_superior_2005.zip'),\n",
       " ('2004',\n",
       "  'https://download.inep.gov.br/microdados/microdados_censo_da_educacao_superior_2004.zip'),\n",
       " ('2003',\n",
       "  'https://download.inep.gov.br/microdados/microdados_censo_da_educacao_superior_2003.zip'),\n",
       " ('2002',\n",
       "  'https://download.inep.gov.br/microdados/microdados_censo_da_educacao_superior_2002.zip'),\n",
       " ('2001',\n",
       "  'https://download.inep.gov.br/microdados/microdados_censo_da_educacao_superior_2001.zip'),\n",
       " ('2000',\n",
       "  'https://download.inep.gov.br/microdados/microdados_censo_da_educacao_superior_2000.zip'),\n",
       " ('1999',\n",
       "  'https://download.inep.gov.br/microdados/microdados_censo_da_educacao_superior_1999.zip'),\n",
       " ('1998',\n",
       "  'https://download.inep.gov.br/microdados/microdados_censo_da_educacao_superior_1998.zip'),\n",
       " ('1997',\n",
       "  'https://download.inep.gov.br/microdados/microdados_censo_da_educacao_superior_1997.zip'),\n",
       " ('1996',\n",
       "  'https://download.inep.gov.br/microdados/microdados_censo_da_educacao_superior_1996.zip'),\n",
       " ('1995',\n",
       "  'https://download.inep.gov.br/microdados/microdados_censo_da_educacao_superior_1995.zip')]"
      ]
     },
     "execution_count": 10,
     "metadata": {},
     "output_type": "execute_result"
    }
   ],
   "source": [
    "links_download"
   ]
  },
  {
   "cell_type": "code",
   "execution_count": 11,
   "metadata": {},
   "outputs": [],
   "source": [
    "# para impedir que a mensagem de erro apareça\n",
    "\n",
    "from requests.packages.urllib3.exceptions import InsecureRequestWarning\n",
    "requests.packages.urllib3.disable_warnings(InsecureRequestWarning)"
   ]
  },
  {
   "cell_type": "code",
   "execution_count": 12,
   "metadata": {},
   "outputs": [
    {
     "name": "stdout",
     "output_type": "stream",
     "text": [
      "O arquivo Case_A3_3/arquivos_zip/Microdados_2022 foi enviado para o bucket na subpasta Case_A3_3/arquivos_zip.\n",
      "O arquivo Case_A3_3/arquivos_zip/Microdados_2021 foi enviado para o bucket na subpasta Case_A3_3/arquivos_zip.\n",
      "O arquivo Case_A3_3/arquivos_zip/Microdados_2020 foi enviado para o bucket na subpasta Case_A3_3/arquivos_zip.\n",
      "O arquivo Case_A3_3/arquivos_zip/Microdados_2019 foi enviado para o bucket na subpasta Case_A3_3/arquivos_zip.\n",
      "O arquivo Case_A3_3/arquivos_zip/Microdados_2018 foi enviado para o bucket na subpasta Case_A3_3/arquivos_zip.\n",
      "O arquivo Case_A3_3/arquivos_zip/Microdados_2017 foi enviado para o bucket na subpasta Case_A3_3/arquivos_zip.\n",
      "O arquivo Case_A3_3/arquivos_zip/Microdados_2016 foi enviado para o bucket na subpasta Case_A3_3/arquivos_zip.\n",
      "O arquivo Case_A3_3/arquivos_zip/Microdados_2015 foi enviado para o bucket na subpasta Case_A3_3/arquivos_zip.\n",
      "O arquivo Case_A3_3/arquivos_zip/Microdados_2014 foi enviado para o bucket na subpasta Case_A3_3/arquivos_zip.\n",
      "O arquivo Case_A3_3/arquivos_zip/Microdados_2013 foi enviado para o bucket na subpasta Case_A3_3/arquivos_zip.\n",
      "O arquivo Case_A3_3/arquivos_zip/Microdados_2012 foi enviado para o bucket na subpasta Case_A3_3/arquivos_zip.\n",
      "O arquivo Case_A3_3/arquivos_zip/Microdados_2011 foi enviado para o bucket na subpasta Case_A3_3/arquivos_zip.\n",
      "O arquivo Case_A3_3/arquivos_zip/Microdados_2010 foi enviado para o bucket na subpasta Case_A3_3/arquivos_zip.\n",
      "O arquivo Case_A3_3/arquivos_zip/Microdados_2009 foi enviado para o bucket na subpasta Case_A3_3/arquivos_zip.\n",
      "O arquivo Case_A3_3/arquivos_zip/Microdados_2008 foi enviado para o bucket na subpasta Case_A3_3/arquivos_zip.\n",
      "O arquivo Case_A3_3/arquivos_zip/Microdados_2007 foi enviado para o bucket na subpasta Case_A3_3/arquivos_zip.\n",
      "O arquivo Case_A3_3/arquivos_zip/Microdados_2006 foi enviado para o bucket na subpasta Case_A3_3/arquivos_zip.\n",
      "O arquivo Case_A3_3/arquivos_zip/Microdados_2005 foi enviado para o bucket na subpasta Case_A3_3/arquivos_zip.\n",
      "O arquivo Case_A3_3/arquivos_zip/Microdados_2004 foi enviado para o bucket na subpasta Case_A3_3/arquivos_zip.\n",
      "O arquivo Case_A3_3/arquivos_zip/Microdados_2003 foi enviado para o bucket na subpasta Case_A3_3/arquivos_zip.\n",
      "O arquivo Case_A3_3/arquivos_zip/Microdados_2002 foi enviado para o bucket na subpasta Case_A3_3/arquivos_zip.\n",
      "O arquivo Case_A3_3/arquivos_zip/Microdados_2001 foi enviado para o bucket na subpasta Case_A3_3/arquivos_zip.\n",
      "O arquivo Case_A3_3/arquivos_zip/Microdados_2000 foi enviado para o bucket na subpasta Case_A3_3/arquivos_zip.\n",
      "O arquivo Case_A3_3/arquivos_zip/Microdados_1999 foi enviado para o bucket na subpasta Case_A3_3/arquivos_zip.\n",
      "O arquivo Case_A3_3/arquivos_zip/Microdados_1998 foi enviado para o bucket na subpasta Case_A3_3/arquivos_zip.\n",
      "O arquivo Case_A3_3/arquivos_zip/Microdados_1997 foi enviado para o bucket na subpasta Case_A3_3/arquivos_zip.\n",
      "O arquivo Case_A3_3/arquivos_zip/Microdados_1996 foi enviado para o bucket na subpasta Case_A3_3/arquivos_zip.\n",
      "O arquivo Case_A3_3/arquivos_zip/Microdados_1995 foi enviado para o bucket na subpasta Case_A3_3/arquivos_zip.\n"
     ]
    }
   ],
   "source": [
    "# itera sobre os links para fazer o download e salvar os arquivos\n",
    "for year, link in links_download:\n",
    "    try:\n",
    "        # faz o download e desativa a verificação do certificado SSL\n",
    "        arquivo_zip = requests.get(link, stream=True, verify=False)\n",
    "        arquivo_zip.raise_for_status()  # verifica se houve erro no download\n",
    "\n",
    "        # envia o arquivo para o bucket do S3 dentro da subpasta \"arquivos_zip\"\n",
    "        s3.upload_fileobj(\n",
    "            arquivo_zip.raw,  # fileobj é o objeto do arquivo a ser enviado. raw é o conteúdo do arquivo e indica que o arquivo não foi aberto (camada de abstração)\n",
    "            bucket_name,  # nome do bucket\n",
    "            f'{subfolder_name}/arquivos_zip/Microdados_{year}'  # nome do arquivo no bucket (ano_nome_do_arquivo.zip) e a subpasta (arquivos_zip)\n",
    "        )\n",
    "\n",
    "        print(f'O arquivo Microdados_{year} foi enviado para o bucket na subpasta {subfolder_name}/arquivos_zip.')\n",
    "\n",
    "    except Exception as e:\n",
    "        print(f'Erro ao baixar o arquivo Microdados_{year}: {e}')"
   ]
  }
 ],
 "metadata": {
  "kernelspec": {
   "display_name": "Python 3",
   "language": "python",
   "name": "python3"
  },
  "language_info": {
   "codemirror_mode": {
    "name": "ipython",
    "version": 3
   },
   "file_extension": ".py",
   "mimetype": "text/x-python",
   "name": "python",
   "nbconvert_exporter": "python",
   "pygments_lexer": "ipython3",
   "version": "3.9.2"
  }
 },
 "nbformat": 4,
 "nbformat_minor": 2
}
